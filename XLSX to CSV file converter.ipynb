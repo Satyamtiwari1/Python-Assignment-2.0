{
 "cells": [
  {
   "cell_type": "markdown",
   "id": "bcfbc59f",
   "metadata": {},
   "source": [
    "# Function to Convert XLSX to CSV"
   ]
  },
  {
   "cell_type": "code",
   "execution_count": 18,
   "id": "1b6e9f64",
   "metadata": {},
   "outputs": [],
   "source": [
    "import pandas as pd\n",
    "import os\n",
    "def xlsx_to_csv(path):\n",
    "    work_book=pd.ExcelFile(path)\n",
    "    for sheet in work_book.sheet_names:\n",
    "        file=pd.read_excel(work_book,sheet_name=sheet)\n",
    "        file.to_csv(sheet+'.csv',header=False,index=False)\n",
    "path='Sample.xlsx'\n",
    "xlsx_to_csv(path)\n",
    "        "
   ]
  },
  {
   "cell_type": "code",
   "execution_count": 13,
   "id": "1f2b57cf",
   "metadata": {},
   "outputs": [],
   "source": []
  }
 ],
 "metadata": {
  "kernelspec": {
   "display_name": "Python 3",
   "language": "python",
   "name": "python3"
  },
  "language_info": {
   "codemirror_mode": {
    "name": "ipython",
    "version": 3
   },
   "file_extension": ".py",
   "mimetype": "text/x-python",
   "name": "python",
   "nbconvert_exporter": "python",
   "pygments_lexer": "ipython3",
   "version": "3.8.8"
  }
 },
 "nbformat": 4,
 "nbformat_minor": 5
}
